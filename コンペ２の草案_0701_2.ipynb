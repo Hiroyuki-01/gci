{
  "nbformat": 4,
  "nbformat_minor": 0,
  "metadata": {
    "kernelspec": {
      "display_name": "Python 3",
      "language": "python",
      "name": "python3"
    },
    "language_info": {
      "codemirror_mode": {
        "name": "ipython",
        "version": 3
      },
      "file_extension": ".py",
      "mimetype": "text/x-python",
      "name": "python",
      "nbconvert_exporter": "python",
      "pygments_lexer": "ipython3",
      "version": "3.8.5"
    },
    "colab": {
      "name": "コンペ２の草案 0701 -2",
      "provenance": [],
      "collapsed_sections": [],
      "include_colab_link": true
    }
  },
  "cells": [
    {
      "cell_type": "markdown",
      "metadata": {
        "id": "view-in-github",
        "colab_type": "text"
      },
      "source": [
        "<a href=\"https://colab.research.google.com/github/Hiroyuki-01/gci/blob/main/%E3%82%B3%E3%83%B3%E3%83%9A%EF%BC%92%E3%81%AE%E8%8D%89%E6%A1%88_0701_2.ipynb\" target=\"_parent\"><img src=\"https://colab.research.google.com/assets/colab-badge.svg\" alt=\"Open In Colab\"/></a>"
      ]
    },
    {
      "cell_type": "markdown",
      "metadata": {
        "id": "6ElPiXzM5kx0"
      },
      "source": [
        "## Import libraries and datas ライブラリとデータのインポート"
      ]
    },
    {
      "cell_type": "code",
      "metadata": {
        "colab": {
          "base_uri": "https://localhost:8080/"
        },
        "id": "4mTRaHy87PCc",
        "outputId": "2a3b4919-8cf1-4818-d1d4-ab2581e6dbf2"
      },
      "source": [
        "from google.colab import drive\n",
        "drive.mount('/content/drive')"
      ],
      "execution_count": 2,
      "outputs": [
        {
          "output_type": "stream",
          "text": [
            "Mounted at /content/drive\n"
          ],
          "name": "stdout"
        }
      ]
    },
    {
      "cell_type": "code",
      "metadata": {
        "id": "DegstHQ15kx2"
      },
      "source": [
        "import numpy as np\n",
        "import pandas as pd\n",
        "import matplotlib.pyplot as plt\n",
        "import seaborn as sns\n",
        "%matplotlib inline\n",
        "\n",
        "from sklearn.model_selection import train_test_split\n",
        "from sklearn.metrics import roc_auc_score, confusion_matrix\n",
        "\n",
        "from lightgbm import LGBMClassifier\n",
        "\n",
        "import warnings\n",
        "warnings.filterwarnings('ignore')"
      ],
      "execution_count": 3,
      "outputs": []
    },
    {
      "cell_type": "code",
      "metadata": {
        "id": "GiQvZve55kx3"
      },
      "source": [
        "train = pd.read_csv('/content/drive/MyDrive/gci2021_summer/competition_2/input/train.csv', index_col=0)\n",
        "test = pd.read_csv('/content/drive/MyDrive/gci2021_summer/competition_2/input/test.csv', index_col=0)"
      ],
      "execution_count": 4,
      "outputs": []
    },
    {
      "cell_type": "code",
      "metadata": {
        "scrolled": true,
        "id": "UPP3eB4L5kx3",
        "colab": {
          "base_uri": "https://localhost:8080/"
        },
        "outputId": "32fa2c65-3baf-42c9-b37c-07207a0bc420"
      },
      "source": [
        "print(f'Train size: {train.shape}')\n",
        "print(f'Test size: {test.shape}')"
      ],
      "execution_count": null,
      "outputs": [
        {
          "output_type": "stream",
          "text": [
            "Train size: (171202, 50)\n",
            "Test size: (61500, 49)\n"
          ],
          "name": "stdout"
        }
      ]
    },
    {
      "cell_type": "code",
      "metadata": {
        "scrolled": true,
        "id": "SOLxu59l5kx4",
        "colab": {
          "base_uri": "https://localhost:8080/",
          "height": 306
        },
        "outputId": "6ac02b49-1ce2-4a1e-aa84-732bd133cedc"
      },
      "source": [
        "train.head()"
      ],
      "execution_count": null,
      "outputs": [
        {
          "output_type": "execute_result",
          "data": {
            "text/html": [
              "<div>\n",
              "<style scoped>\n",
              "    .dataframe tbody tr th:only-of-type {\n",
              "        vertical-align: middle;\n",
              "    }\n",
              "\n",
              "    .dataframe tbody tr th {\n",
              "        vertical-align: top;\n",
              "    }\n",
              "\n",
              "    .dataframe thead th {\n",
              "        text-align: right;\n",
              "    }\n",
              "</style>\n",
              "<table border=\"1\" class=\"dataframe\">\n",
              "  <thead>\n",
              "    <tr style=\"text-align: right;\">\n",
              "      <th></th>\n",
              "      <th>TARGET</th>\n",
              "      <th>NAME_CONTRACT_TYPE</th>\n",
              "      <th>CODE_GENDER</th>\n",
              "      <th>FLAG_OWN_CAR</th>\n",
              "      <th>FLAG_OWN_REALTY</th>\n",
              "      <th>CNT_CHILDREN</th>\n",
              "      <th>AMT_INCOME_TOTAL</th>\n",
              "      <th>AMT_CREDIT</th>\n",
              "      <th>AMT_ANNUITY</th>\n",
              "      <th>AMT_GOODS_PRICE</th>\n",
              "      <th>NAME_TYPE_SUITE</th>\n",
              "      <th>NAME_INCOME_TYPE</th>\n",
              "      <th>NAME_EDUCATION_TYPE</th>\n",
              "      <th>NAME_FAMILY_STATUS</th>\n",
              "      <th>NAME_HOUSING_TYPE</th>\n",
              "      <th>REGION_POPULATION_RELATIVE</th>\n",
              "      <th>DAYS_BIRTH</th>\n",
              "      <th>DAYS_EMPLOYED</th>\n",
              "      <th>DAYS_REGISTRATION</th>\n",
              "      <th>DAYS_ID_PUBLISH</th>\n",
              "      <th>OWN_CAR_AGE</th>\n",
              "      <th>FLAG_MOBIL</th>\n",
              "      <th>FLAG_EMP_PHONE</th>\n",
              "      <th>FLAG_WORK_PHONE</th>\n",
              "      <th>FLAG_CONT_MOBILE</th>\n",
              "      <th>FLAG_PHONE</th>\n",
              "      <th>FLAG_EMAIL</th>\n",
              "      <th>OCCUPATION_TYPE</th>\n",
              "      <th>CNT_FAM_MEMBERS</th>\n",
              "      <th>REGION_RATING_CLIENT</th>\n",
              "      <th>REGION_RATING_CLIENT_W_CITY</th>\n",
              "      <th>REG_REGION_NOT_LIVE_REGION</th>\n",
              "      <th>REG_REGION_NOT_WORK_REGION</th>\n",
              "      <th>LIVE_REGION_NOT_WORK_REGION</th>\n",
              "      <th>REG_CITY_NOT_LIVE_CITY</th>\n",
              "      <th>REG_CITY_NOT_WORK_CITY</th>\n",
              "      <th>LIVE_CITY_NOT_WORK_CITY</th>\n",
              "      <th>ORGANIZATION_TYPE</th>\n",
              "      <th>EXT_SOURCE_1</th>\n",
              "      <th>EXT_SOURCE_2</th>\n",
              "      <th>EXT_SOURCE_3</th>\n",
              "      <th>OBS_30_CNT_SOCIAL_CIRCLE</th>\n",
              "      <th>DEF_30_CNT_SOCIAL_CIRCLE</th>\n",
              "      <th>OBS_60_CNT_SOCIAL_CIRCLE</th>\n",
              "      <th>DEF_60_CNT_SOCIAL_CIRCLE</th>\n",
              "      <th>DAYS_LAST_PHONE_CHANGE</th>\n",
              "      <th>AMT_REQ_CREDIT_BUREAU_HOUR</th>\n",
              "      <th>AMT_REQ_CREDIT_BUREAU_MON</th>\n",
              "      <th>AMT_REQ_CREDIT_BUREAU_QRT</th>\n",
              "      <th>AMT_REQ_CREDIT_BUREAU_YEAR</th>\n",
              "    </tr>\n",
              "    <tr>\n",
              "      <th>SK_ID_CURR</th>\n",
              "      <th></th>\n",
              "      <th></th>\n",
              "      <th></th>\n",
              "      <th></th>\n",
              "      <th></th>\n",
              "      <th></th>\n",
              "      <th></th>\n",
              "      <th></th>\n",
              "      <th></th>\n",
              "      <th></th>\n",
              "      <th></th>\n",
              "      <th></th>\n",
              "      <th></th>\n",
              "      <th></th>\n",
              "      <th></th>\n",
              "      <th></th>\n",
              "      <th></th>\n",
              "      <th></th>\n",
              "      <th></th>\n",
              "      <th></th>\n",
              "      <th></th>\n",
              "      <th></th>\n",
              "      <th></th>\n",
              "      <th></th>\n",
              "      <th></th>\n",
              "      <th></th>\n",
              "      <th></th>\n",
              "      <th></th>\n",
              "      <th></th>\n",
              "      <th></th>\n",
              "      <th></th>\n",
              "      <th></th>\n",
              "      <th></th>\n",
              "      <th></th>\n",
              "      <th></th>\n",
              "      <th></th>\n",
              "      <th></th>\n",
              "      <th></th>\n",
              "      <th></th>\n",
              "      <th></th>\n",
              "      <th></th>\n",
              "      <th></th>\n",
              "      <th></th>\n",
              "      <th></th>\n",
              "      <th></th>\n",
              "      <th></th>\n",
              "      <th></th>\n",
              "      <th></th>\n",
              "      <th></th>\n",
              "      <th></th>\n",
              "    </tr>\n",
              "  </thead>\n",
              "  <tbody>\n",
              "    <tr>\n",
              "      <th>0</th>\n",
              "      <td>0</td>\n",
              "      <td>Cash loans</td>\n",
              "      <td>F</td>\n",
              "      <td>N</td>\n",
              "      <td>N</td>\n",
              "      <td>0</td>\n",
              "      <td>112500.0</td>\n",
              "      <td>755190.0</td>\n",
              "      <td>36328.5</td>\n",
              "      <td>675000.0</td>\n",
              "      <td>Unaccompanied</td>\n",
              "      <td>Working</td>\n",
              "      <td>Higher education</td>\n",
              "      <td>Married</td>\n",
              "      <td>House / apartment</td>\n",
              "      <td>0.010032</td>\n",
              "      <td>-9233</td>\n",
              "      <td>-878</td>\n",
              "      <td>-333.0</td>\n",
              "      <td>-522</td>\n",
              "      <td>NaN</td>\n",
              "      <td>1</td>\n",
              "      <td>1</td>\n",
              "      <td>1</td>\n",
              "      <td>1</td>\n",
              "      <td>0</td>\n",
              "      <td>0</td>\n",
              "      <td>Core staff</td>\n",
              "      <td>2.0</td>\n",
              "      <td>2</td>\n",
              "      <td>2</td>\n",
              "      <td>0</td>\n",
              "      <td>1</td>\n",
              "      <td>1</td>\n",
              "      <td>0</td>\n",
              "      <td>1</td>\n",
              "      <td>1</td>\n",
              "      <td>School</td>\n",
              "      <td>NaN</td>\n",
              "      <td>0.372591</td>\n",
              "      <td>NaN</td>\n",
              "      <td>0.0</td>\n",
              "      <td>0.0</td>\n",
              "      <td>0.0</td>\n",
              "      <td>0.0</td>\n",
              "      <td>-292.0</td>\n",
              "      <td>NaN</td>\n",
              "      <td>NaN</td>\n",
              "      <td>NaN</td>\n",
              "      <td>NaN</td>\n",
              "    </tr>\n",
              "    <tr>\n",
              "      <th>1</th>\n",
              "      <td>0</td>\n",
              "      <td>Cash loans</td>\n",
              "      <td>F</td>\n",
              "      <td>N</td>\n",
              "      <td>Y</td>\n",
              "      <td>0</td>\n",
              "      <td>225000.0</td>\n",
              "      <td>585000.0</td>\n",
              "      <td>16893.0</td>\n",
              "      <td>585000.0</td>\n",
              "      <td>Unaccompanied</td>\n",
              "      <td>Pensioner</td>\n",
              "      <td>Secondary / secondary special</td>\n",
              "      <td>Married</td>\n",
              "      <td>House / apartment</td>\n",
              "      <td>0.008019</td>\n",
              "      <td>-20148</td>\n",
              "      <td>365243</td>\n",
              "      <td>-4469.0</td>\n",
              "      <td>-3436</td>\n",
              "      <td>NaN</td>\n",
              "      <td>1</td>\n",
              "      <td>0</td>\n",
              "      <td>0</td>\n",
              "      <td>1</td>\n",
              "      <td>0</td>\n",
              "      <td>0</td>\n",
              "      <td>NaN</td>\n",
              "      <td>2.0</td>\n",
              "      <td>2</td>\n",
              "      <td>2</td>\n",
              "      <td>0</td>\n",
              "      <td>0</td>\n",
              "      <td>0</td>\n",
              "      <td>0</td>\n",
              "      <td>0</td>\n",
              "      <td>0</td>\n",
              "      <td>XNA</td>\n",
              "      <td>NaN</td>\n",
              "      <td>0.449567</td>\n",
              "      <td>0.553165</td>\n",
              "      <td>0.0</td>\n",
              "      <td>0.0</td>\n",
              "      <td>0.0</td>\n",
              "      <td>0.0</td>\n",
              "      <td>-617.0</td>\n",
              "      <td>0.0</td>\n",
              "      <td>0.0</td>\n",
              "      <td>0.0</td>\n",
              "      <td>1.0</td>\n",
              "    </tr>\n",
              "    <tr>\n",
              "      <th>2</th>\n",
              "      <td>0</td>\n",
              "      <td>Cash loans</td>\n",
              "      <td>F</td>\n",
              "      <td>N</td>\n",
              "      <td>Y</td>\n",
              "      <td>0</td>\n",
              "      <td>54000.0</td>\n",
              "      <td>334152.0</td>\n",
              "      <td>18256.5</td>\n",
              "      <td>270000.0</td>\n",
              "      <td>Family</td>\n",
              "      <td>State servant</td>\n",
              "      <td>Secondary / secondary special</td>\n",
              "      <td>Married</td>\n",
              "      <td>House / apartment</td>\n",
              "      <td>0.004960</td>\n",
              "      <td>-18496</td>\n",
              "      <td>-523</td>\n",
              "      <td>-3640.0</td>\n",
              "      <td>-2050</td>\n",
              "      <td>NaN</td>\n",
              "      <td>1</td>\n",
              "      <td>1</td>\n",
              "      <td>1</td>\n",
              "      <td>1</td>\n",
              "      <td>1</td>\n",
              "      <td>0</td>\n",
              "      <td>Core staff</td>\n",
              "      <td>2.0</td>\n",
              "      <td>2</td>\n",
              "      <td>2</td>\n",
              "      <td>0</td>\n",
              "      <td>0</td>\n",
              "      <td>0</td>\n",
              "      <td>0</td>\n",
              "      <td>0</td>\n",
              "      <td>0</td>\n",
              "      <td>Postal</td>\n",
              "      <td>NaN</td>\n",
              "      <td>0.569503</td>\n",
              "      <td>NaN</td>\n",
              "      <td>4.0</td>\n",
              "      <td>0.0</td>\n",
              "      <td>4.0</td>\n",
              "      <td>0.0</td>\n",
              "      <td>-542.0</td>\n",
              "      <td>NaN</td>\n",
              "      <td>NaN</td>\n",
              "      <td>NaN</td>\n",
              "      <td>NaN</td>\n",
              "    </tr>\n",
              "    <tr>\n",
              "      <th>3</th>\n",
              "      <td>0</td>\n",
              "      <td>Cash loans</td>\n",
              "      <td>F</td>\n",
              "      <td>N</td>\n",
              "      <td>Y</td>\n",
              "      <td>0</td>\n",
              "      <td>67500.0</td>\n",
              "      <td>152820.0</td>\n",
              "      <td>8901.0</td>\n",
              "      <td>135000.0</td>\n",
              "      <td>Children</td>\n",
              "      <td>Pensioner</td>\n",
              "      <td>Lower secondary</td>\n",
              "      <td>Widow</td>\n",
              "      <td>House / apartment</td>\n",
              "      <td>0.005002</td>\n",
              "      <td>-24177</td>\n",
              "      <td>365243</td>\n",
              "      <td>-4950.0</td>\n",
              "      <td>-3951</td>\n",
              "      <td>NaN</td>\n",
              "      <td>1</td>\n",
              "      <td>0</td>\n",
              "      <td>0</td>\n",
              "      <td>1</td>\n",
              "      <td>1</td>\n",
              "      <td>0</td>\n",
              "      <td>NaN</td>\n",
              "      <td>1.0</td>\n",
              "      <td>3</td>\n",
              "      <td>3</td>\n",
              "      <td>0</td>\n",
              "      <td>0</td>\n",
              "      <td>0</td>\n",
              "      <td>0</td>\n",
              "      <td>0</td>\n",
              "      <td>0</td>\n",
              "      <td>XNA</td>\n",
              "      <td>NaN</td>\n",
              "      <td>0.105235</td>\n",
              "      <td>0.767523</td>\n",
              "      <td>0.0</td>\n",
              "      <td>0.0</td>\n",
              "      <td>0.0</td>\n",
              "      <td>0.0</td>\n",
              "      <td>0.0</td>\n",
              "      <td>0.0</td>\n",
              "      <td>0.0</td>\n",
              "      <td>0.0</td>\n",
              "      <td>0.0</td>\n",
              "    </tr>\n",
              "    <tr>\n",
              "      <th>4</th>\n",
              "      <td>1</td>\n",
              "      <td>Cash loans</td>\n",
              "      <td>M</td>\n",
              "      <td>N</td>\n",
              "      <td>N</td>\n",
              "      <td>0</td>\n",
              "      <td>157500.0</td>\n",
              "      <td>271066.5</td>\n",
              "      <td>21546.0</td>\n",
              "      <td>234000.0</td>\n",
              "      <td>Unaccompanied</td>\n",
              "      <td>Commercial associate</td>\n",
              "      <td>Secondary / secondary special</td>\n",
              "      <td>Married</td>\n",
              "      <td>With parents</td>\n",
              "      <td>0.006296</td>\n",
              "      <td>-10685</td>\n",
              "      <td>-697</td>\n",
              "      <td>-5101.0</td>\n",
              "      <td>-3226</td>\n",
              "      <td>NaN</td>\n",
              "      <td>1</td>\n",
              "      <td>1</td>\n",
              "      <td>1</td>\n",
              "      <td>1</td>\n",
              "      <td>0</td>\n",
              "      <td>0</td>\n",
              "      <td>Drivers</td>\n",
              "      <td>2.0</td>\n",
              "      <td>3</td>\n",
              "      <td>3</td>\n",
              "      <td>0</td>\n",
              "      <td>0</td>\n",
              "      <td>0</td>\n",
              "      <td>0</td>\n",
              "      <td>1</td>\n",
              "      <td>1</td>\n",
              "      <td>Business Entity Type 3</td>\n",
              "      <td>0.342344</td>\n",
              "      <td>0.202490</td>\n",
              "      <td>0.669057</td>\n",
              "      <td>0.0</td>\n",
              "      <td>0.0</td>\n",
              "      <td>0.0</td>\n",
              "      <td>0.0</td>\n",
              "      <td>-1243.0</td>\n",
              "      <td>0.0</td>\n",
              "      <td>0.0</td>\n",
              "      <td>0.0</td>\n",
              "      <td>4.0</td>\n",
              "    </tr>\n",
              "  </tbody>\n",
              "</table>\n",
              "</div>"
            ],
            "text/plain": [
              "            TARGET  ... AMT_REQ_CREDIT_BUREAU_YEAR\n",
              "SK_ID_CURR          ...                           \n",
              "0                0  ...                        NaN\n",
              "1                0  ...                        1.0\n",
              "2                0  ...                        NaN\n",
              "3                0  ...                        0.0\n",
              "4                1  ...                        4.0\n",
              "\n",
              "[5 rows x 50 columns]"
            ]
          },
          "metadata": {
            "tags": []
          },
          "execution_count": 5
        }
      ]
    },
    {
      "cell_type": "code",
      "metadata": {
        "scrolled": true,
        "id": "UUR_o8915kx4",
        "colab": {
          "base_uri": "https://localhost:8080/"
        },
        "outputId": "7f5f51b1-b368-407a-8aaa-1655c6d6e17d"
      },
      "source": [
        "print('TARGET==1: {:.2f}%'.format(train.TARGET.sum()/train.shape[0]*100))"
      ],
      "execution_count": null,
      "outputs": [
        {
          "output_type": "stream",
          "text": [
            "TARGET==1: 8.07%\n"
          ],
          "name": "stdout"
        }
      ]
    },
    {
      "cell_type": "code",
      "metadata": {
        "colab": {
          "base_uri": "https://localhost:8080/"
        },
        "id": "TTaZZSbODK7x",
        "outputId": "c14ca296-9cab-4290-cbb0-489bd39bcd11"
      },
      "source": [
        "train['TARGET'].dtype"
      ],
      "execution_count": null,
      "outputs": [
        {
          "output_type": "execute_result",
          "data": {
            "text/plain": [
              "dtype('int64')"
            ]
          },
          "metadata": {
            "tags": []
          },
          "execution_count": 7
        }
      ]
    },
    {
      "cell_type": "code",
      "metadata": {
        "id": "5WdNeDPC5kx4",
        "colab": {
          "base_uri": "https://localhost:8080/"
        },
        "outputId": "454b35f7-111c-476a-f7e4-c947d99329a8"
      },
      "source": [
        "categorical_cols = [col for col in train.columns if train[col].dtype=='object']\n",
        "numerical_cols = [col for col in train.columns if train[col].dtype in ['int64', 'Float64']]\n",
        "print(f'Length of categorical columns: {len(categorical_cols)}')\n",
        "print(f'Length of numerical columns: {len(numerical_cols)}')"
      ],
      "execution_count": null,
      "outputs": [
        {
          "output_type": "stream",
          "text": [
            "Length of categorical columns: 11\n",
            "Length of numerical columns: 39\n"
          ],
          "name": "stdout"
        }
      ]
    },
    {
      "cell_type": "markdown",
      "metadata": {
        "id": "8q-C9xK75kx5"
      },
      "source": [
        "## Missing values　欠損値の確認\n"
      ]
    },
    {
      "cell_type": "code",
      "metadata": {
        "id": "tVfWTJvW5kx5"
      },
      "source": [
        "def show_missing(df):\n",
        "    missing_list = df.isnull().sum().sort_values(ascending=False) / df.shape[0]\n",
        "    missing_list = missing_list[missing_list>0]\n",
        "\n",
        "    plt.subplots(figsize=(12, 6))\n",
        "    plt.xticks(rotation=90)\n",
        "\n",
        "    sns.barplot(missing_list.index, missing_list.values)"
      ],
      "execution_count": null,
      "outputs": []
    },
    {
      "cell_type": "code",
      "metadata": {
        "scrolled": true,
        "id": "2QNT9eI_5kx5",
        "colab": {
          "base_uri": "https://localhost:8080/",
          "height": 534
        },
        "outputId": "f1cd54c4-608d-4756-ed58-d551e867dfd6"
      },
      "source": [
        "show_missing(train)"
      ],
      "execution_count": null,
      "outputs": [
        {
          "output_type": "display_data",
          "data": {
            "image/png": "[encoded data removed]",
            "text/plain": [
              "<Figure size 864x432 with 1 Axes>"
            ]
          },
          "metadata": {
            "tags": [],
            "needs_background": "light"
          }
        }
      ]
    },
    {
      "cell_type": "markdown",
      "metadata": {
        "id": "WHwCFcRU5kx6"
      },
      "source": [
        "## Correlation matrix   相関行列"
      ]
    },
    {
      "cell_type": "code",
      "metadata": {
        "id": "kTg8XOtV5kx6"
      },
      "source": [
        "def show_corrmat(df):\n",
        "    corrmat = df.corr()\n",
        "    plt.subplots(figsize=(12, 9))\n",
        "    sns.heatmap(corrmat, vmax=.8, square=True)"
      ],
      "execution_count": null,
      "outputs": []
    },
    {
      "cell_type": "code",
      "metadata": {
        "scrolled": true,
        "id": "m90bDP5o5kx6",
        "colab": {
          "base_uri": "https://localhost:8080/",
          "height": 703
        },
        "outputId": "e69ff78a-76a3-47ac-f1e3-2310693ba879"
      },
      "source": [
        "show_corrmat(train)"
      ],
      "execution_count": null,
      "outputs": [
        {
          "output_type": "display_data",
          "data": {
            "image/png": "[encoded data removed]",
            "text/plain": [
              "<Figure size 864x648 with 2 Axes>"
            ]
          },
          "metadata": {
            "tags": [],
            "needs_background": "light"
          }
        }
      ]
    },
    {
      "cell_type": "markdown",
      "metadata": {
        "id": "__ONWE755kx6"
      },
      "source": [
        "### Datas strongly correlated with TARGET\n",
        "目的変数(Targetカラム)と強く相関するカラムはどれか"
      ]
    },
    {
      "cell_type": "code",
      "metadata": {
        "id": "XDWRIFsJ5kx6",
        "colab": {
          "base_uri": "https://localhost:8080/"
        },
        "outputId": "4aeccdbe-a6b8-496e-ce98-8dd342c70983"
      },
      "source": [
        "k = 12\n",
        "corr_data = pd.concat([train.corr().nlargest(k, 'TARGET')['TARGET'], train.corr().nsmallest(k, 'TARGET')['TARGET']]).sort_values(ascending=False)\n",
        "corr_data"
      ],
      "execution_count": 38,
      "outputs": [
        {
          "output_type": "execute_result",
          "data": {
            "text/plain": [
              "TARGET                         1.000000\n",
              "DAYS_BIRTH                     0.079541\n",
              "REGION_RATING_CLIENT_W_CITY    0.061132\n",
              "REGION_RATING_CLIENT           0.058984\n",
              "DAYS_LAST_PHONE_CHANGE         0.055195\n",
              "DAYS_ID_PUBLISH                0.052567\n",
              "REG_CITY_NOT_WORK_CITY         0.049438\n",
              "FLAG_EMP_PHONE                 0.045646\n",
              "REG_CITY_NOT_LIVE_CITY         0.043829\n",
              "DAYS_REGISTRATION              0.041669\n",
              "OWN_CAR_AGE                    0.040035\n",
              "DEF_60_CNT_SOCIAL_CIRCLE       0.033064\n",
              "AMT_REQ_CREDIT_BUREAU_QRT     -0.003098\n",
              "AMT_REQ_CREDIT_BUREAU_MON     -0.014177\n",
              "AMT_ANNUITY                   -0.014688\n",
              "AMT_INCOME_TOTAL              -0.021638\n",
              "FLAG_PHONE                    -0.021865\n",
              "AMT_CREDIT                    -0.032727\n",
              "REGION_POPULATION_RELATIVE    -0.038259\n",
              "AMT_GOODS_PRICE               -0.041909\n",
              "DAYS_EMPLOYED                 -0.044592\n",
              "EXT_SOURCE_1                  -0.154050\n",
              "EXT_SOURCE_2                  -0.162562\n",
              "EXT_SOURCE_3                  -0.178317\n",
              "Name: TARGET, dtype: float64"
            ]
          },
          "metadata": {
            "tags": []
          },
          "execution_count": 38
        }
      ]
    },
    {
      "cell_type": "markdown",
      "metadata": {
        "id": "VeC54M7-5kx7"
      },
      "source": [
        "## Distribution graph\n",
        "分布グラフ\n",
        "\n",
        "1.   days_birth\n",
        "2.   ext_source_3\n",
        "3.   ext_source_2\n",
        "\n",
        "\n",
        "\n",
        "\n"
      ]
    },
    {
      "cell_type": "code",
      "metadata": {
        "id": "HlrTbcAW5kx7"
      },
      "source": [
        "def show_distribution(col):\n",
        "    plt.subplots(figsize=(8, 4))\n",
        "    sns.kdeplot(train.loc[train['TARGET'] == 0, col], label='target == 0')\n",
        "    sns.kdeplot(train.loc[train['TARGET'] == 1, col], label='target == 1')"
      ],
      "execution_count": null,
      "outputs": []
    },
    {
      "cell_type": "code",
      "metadata": {
        "scrolled": false,
        "id": "rZkh1rcj5kx7",
        "colab": {
          "base_uri": "https://localhost:8080/",
          "height": 284
        },
        "outputId": "96684b54-94a0-4c7e-a94c-8a6c6fcdf388"
      },
      "source": [
        "show_distribution('DAYS_BIRTH')"
      ],
      "execution_count": null,
      "outputs": [
        {
          "output_type": "display_data",
          "data": {
            "image/png": "[encoded data removed]",
            "text/plain": [
              "<Figure size 576x288 with 1 Axes>"
            ]
          },
          "metadata": {
            "tags": [],
            "needs_background": "light"
          }
        }
      ]
    },
    {
      "cell_type": "code",
      "metadata": {
        "id": "x6GGdYxU5kx7",
        "colab": {
          "base_uri": "https://localhost:8080/",
          "height": 280
        },
        "outputId": "12ea3ad3-2c59-425b-b9f6-f03948244383"
      },
      "source": [
        "show_distribution('EXT_SOURCE_3')"
      ],
      "execution_count": null,
      "outputs": [
        {
          "output_type": "display_data",
          "data": {
            "image/png": "[encoded data removed]",
            "text/plain": [
              "<Figure size 576x288 with 1 Axes>"
            ]
          },
          "metadata": {
            "tags": [],
            "needs_background": "light"
          }
        }
      ]
    },
    {
      "cell_type": "code",
      "metadata": {
        "id": "kbfsBfPl5kx7",
        "colab": {
          "base_uri": "https://localhost:8080/",
          "height": 280
        },
        "outputId": "cb130660-5481-4fb6-8e85-758aacaed343"
      },
      "source": [
        "show_distribution('EXT_SOURCE_2')\n"
      ],
      "execution_count": null,
      "outputs": [
        {
          "output_type": "display_data",
          "data": {
            "image/png": "[encoded data removed]",
            "text/plain": [
              "<Figure size 576x288 with 1 Axes>"
            ]
          },
          "metadata": {
            "tags": [],
            "needs_background": "light"
          }
        }
      ]
    },
    {
      "cell_type": "code",
      "metadata": {
        "scrolled": true,
        "id": "WIrQkdYu5kx8",
        "colab": {
          "base_uri": "https://localhost:8080/",
          "height": 280
        },
        "outputId": "41e37885-00e3-4117-fe97-5ffd80c06ba4"
      },
      "source": [
        "show_distribution('EXT_SOURCE_1')"
      ],
      "execution_count": null,
      "outputs": [
        {
          "output_type": "display_data",
          "data": {
            "image/png": "[encoded data removed]",
            "text/plain": [
              "<Figure size 576x288 with 1 Axes>"
            ]
          },
          "metadata": {
            "tags": [],
            "needs_background": "light"
          }
        }
      ]
    },
    {
      "cell_type": "code",
      "metadata": {
        "colab": {
          "base_uri": "https://localhost:8080/"
        },
        "id": "CGVH3PW9l7RE",
        "outputId": "373a7c99-0557-4408-b0a4-063acafac523"
      },
      "source": [
        "corr_data['EXT_SOURCE_1']"
      ],
      "execution_count": null,
      "outputs": [
        {
          "output_type": "execute_result",
          "data": {
            "text/plain": [
              "-0.1540495043987891"
            ]
          },
          "metadata": {
            "tags": []
          },
          "execution_count": 19
        }
      ]
    },
    {
      "cell_type": "markdown",
      "metadata": {
        "id": "n4YGFvuC5kx8"
      },
      "source": [
        "## Model training\n",
        "モデル構築"
      ]
    },
    {
      "cell_type": "code",
      "metadata": {
        "scrolled": false,
        "id": "okMmysxE5kx8",
        "colab": {
          "base_uri": "https://localhost:8080/",
          "height": 470
        },
        "outputId": "c0588c38-015e-49d4-df77-555fa8d3540d"
      },
      "source": [
        "feature_cols = corr_data.index\n",
        "all_df = pd.concat([train, test]).reset_index(drop=True)[feature_cols]\n",
        "all_df = pd.concat([train, test])[feature_cols]\n",
        "all_df"
      ],
      "execution_count": 32,
      "outputs": [
        {
          "output_type": "execute_result",
          "data": {
            "text/html": [
              "<div>\n",
              "<style scoped>\n",
              "    .dataframe tbody tr th:only-of-type {\n",
              "        vertical-align: middle;\n",
              "    }\n",
              "\n",
              "    .dataframe tbody tr th {\n",
              "        vertical-align: top;\n",
              "    }\n",
              "\n",
              "    .dataframe thead th {\n",
              "        text-align: right;\n",
              "    }\n",
              "</style>\n",
              "<table border=\"1\" class=\"dataframe\">\n",
              "  <thead>\n",
              "    <tr style=\"text-align: right;\">\n",
              "      <th></th>\n",
              "      <th>TARGET</th>\n",
              "      <th>DAYS_BIRTH</th>\n",
              "      <th>REGION_RATING_CLIENT_W_CITY</th>\n",
              "      <th>REGION_RATING_CLIENT</th>\n",
              "      <th>DAYS_LAST_PHONE_CHANGE</th>\n",
              "      <th>DAYS_ID_PUBLISH</th>\n",
              "      <th>REG_CITY_NOT_WORK_CITY</th>\n",
              "      <th>FLAG_EMP_PHONE</th>\n",
              "      <th>REG_CITY_NOT_LIVE_CITY</th>\n",
              "      <th>DAYS_REGISTRATION</th>\n",
              "      <th>OWN_CAR_AGE</th>\n",
              "      <th>AMT_REQ_CREDIT_BUREAU_MON</th>\n",
              "      <th>AMT_ANNUITY</th>\n",
              "      <th>AMT_INCOME_TOTAL</th>\n",
              "      <th>FLAG_PHONE</th>\n",
              "      <th>AMT_CREDIT</th>\n",
              "      <th>REGION_POPULATION_RELATIVE</th>\n",
              "      <th>AMT_GOODS_PRICE</th>\n",
              "      <th>DAYS_EMPLOYED</th>\n",
              "      <th>EXT_SOURCE_1</th>\n",
              "      <th>EXT_SOURCE_2</th>\n",
              "      <th>EXT_SOURCE_3</th>\n",
              "    </tr>\n",
              "    <tr>\n",
              "      <th>SK_ID_CURR</th>\n",
              "      <th></th>\n",
              "      <th></th>\n",
              "      <th></th>\n",
              "      <th></th>\n",
              "      <th></th>\n",
              "      <th></th>\n",
              "      <th></th>\n",
              "      <th></th>\n",
              "      <th></th>\n",
              "      <th></th>\n",
              "      <th></th>\n",
              "      <th></th>\n",
              "      <th></th>\n",
              "      <th></th>\n",
              "      <th></th>\n",
              "      <th></th>\n",
              "      <th></th>\n",
              "      <th></th>\n",
              "      <th></th>\n",
              "      <th></th>\n",
              "      <th></th>\n",
              "      <th></th>\n",
              "    </tr>\n",
              "  </thead>\n",
              "  <tbody>\n",
              "    <tr>\n",
              "      <th>0</th>\n",
              "      <td>0.0</td>\n",
              "      <td>-9233</td>\n",
              "      <td>2</td>\n",
              "      <td>2</td>\n",
              "      <td>-292.0</td>\n",
              "      <td>-522</td>\n",
              "      <td>1</td>\n",
              "      <td>1</td>\n",
              "      <td>0</td>\n",
              "      <td>-333.0</td>\n",
              "      <td>NaN</td>\n",
              "      <td>NaN</td>\n",
              "      <td>36328.5</td>\n",
              "      <td>112500.0</td>\n",
              "      <td>0</td>\n",
              "      <td>755190.0</td>\n",
              "      <td>0.010032</td>\n",
              "      <td>675000.0</td>\n",
              "      <td>-878</td>\n",
              "      <td>NaN</td>\n",
              "      <td>0.372591</td>\n",
              "      <td>NaN</td>\n",
              "    </tr>\n",
              "    <tr>\n",
              "      <th>1</th>\n",
              "      <td>0.0</td>\n",
              "      <td>-20148</td>\n",
              "      <td>2</td>\n",
              "      <td>2</td>\n",
              "      <td>-617.0</td>\n",
              "      <td>-3436</td>\n",
              "      <td>0</td>\n",
              "      <td>0</td>\n",
              "      <td>0</td>\n",
              "      <td>-4469.0</td>\n",
              "      <td>NaN</td>\n",
              "      <td>0.0</td>\n",
              "      <td>16893.0</td>\n",
              "      <td>225000.0</td>\n",
              "      <td>0</td>\n",
              "      <td>585000.0</td>\n",
              "      <td>0.008019</td>\n",
              "      <td>585000.0</td>\n",
              "      <td>365243</td>\n",
              "      <td>NaN</td>\n",
              "      <td>0.449567</td>\n",
              "      <td>0.553165</td>\n",
              "    </tr>\n",
              "    <tr>\n",
              "      <th>2</th>\n",
              "      <td>0.0</td>\n",
              "      <td>-18496</td>\n",
              "      <td>2</td>\n",
              "      <td>2</td>\n",
              "      <td>-542.0</td>\n",
              "      <td>-2050</td>\n",
              "      <td>0</td>\n",
              "      <td>1</td>\n",
              "      <td>0</td>\n",
              "      <td>-3640.0</td>\n",
              "      <td>NaN</td>\n",
              "      <td>NaN</td>\n",
              "      <td>18256.5</td>\n",
              "      <td>54000.0</td>\n",
              "      <td>1</td>\n",
              "      <td>334152.0</td>\n",
              "      <td>0.004960</td>\n",
              "      <td>270000.0</td>\n",
              "      <td>-523</td>\n",
              "      <td>NaN</td>\n",
              "      <td>0.569503</td>\n",
              "      <td>NaN</td>\n",
              "    </tr>\n",
              "    <tr>\n",
              "      <th>3</th>\n",
              "      <td>0.0</td>\n",
              "      <td>-24177</td>\n",
              "      <td>3</td>\n",
              "      <td>3</td>\n",
              "      <td>0.0</td>\n",
              "      <td>-3951</td>\n",
              "      <td>0</td>\n",
              "      <td>0</td>\n",
              "      <td>0</td>\n",
              "      <td>-4950.0</td>\n",
              "      <td>NaN</td>\n",
              "      <td>0.0</td>\n",
              "      <td>8901.0</td>\n",
              "      <td>67500.0</td>\n",
              "      <td>1</td>\n",
              "      <td>152820.0</td>\n",
              "      <td>0.005002</td>\n",
              "      <td>135000.0</td>\n",
              "      <td>365243</td>\n",
              "      <td>NaN</td>\n",
              "      <td>0.105235</td>\n",
              "      <td>0.767523</td>\n",
              "    </tr>\n",
              "    <tr>\n",
              "      <th>4</th>\n",
              "      <td>1.0</td>\n",
              "      <td>-10685</td>\n",
              "      <td>3</td>\n",
              "      <td>3</td>\n",
              "      <td>-1243.0</td>\n",
              "      <td>-3226</td>\n",
              "      <td>1</td>\n",
              "      <td>1</td>\n",
              "      <td>0</td>\n",
              "      <td>-5101.0</td>\n",
              "      <td>NaN</td>\n",
              "      <td>0.0</td>\n",
              "      <td>21546.0</td>\n",
              "      <td>157500.0</td>\n",
              "      <td>0</td>\n",
              "      <td>271066.5</td>\n",
              "      <td>0.006296</td>\n",
              "      <td>234000.0</td>\n",
              "      <td>-697</td>\n",
              "      <td>0.342344</td>\n",
              "      <td>0.202490</td>\n",
              "      <td>0.669057</td>\n",
              "    </tr>\n",
              "    <tr>\n",
              "      <th>...</th>\n",
              "      <td>...</td>\n",
              "      <td>...</td>\n",
              "      <td>...</td>\n",
              "      <td>...</td>\n",
              "      <td>...</td>\n",
              "      <td>...</td>\n",
              "      <td>...</td>\n",
              "      <td>...</td>\n",
              "      <td>...</td>\n",
              "      <td>...</td>\n",
              "      <td>...</td>\n",
              "      <td>...</td>\n",
              "      <td>...</td>\n",
              "      <td>...</td>\n",
              "      <td>...</td>\n",
              "      <td>...</td>\n",
              "      <td>...</td>\n",
              "      <td>...</td>\n",
              "      <td>...</td>\n",
              "      <td>...</td>\n",
              "      <td>...</td>\n",
              "      <td>...</td>\n",
              "    </tr>\n",
              "    <tr>\n",
              "      <th>232697</th>\n",
              "      <td>NaN</td>\n",
              "      <td>-11430</td>\n",
              "      <td>2</td>\n",
              "      <td>2</td>\n",
              "      <td>-1.0</td>\n",
              "      <td>-2705</td>\n",
              "      <td>0</td>\n",
              "      <td>1</td>\n",
              "      <td>0</td>\n",
              "      <td>-9772.0</td>\n",
              "      <td>12.0</td>\n",
              "      <td>1.0</td>\n",
              "      <td>37800.0</td>\n",
              "      <td>315000.0</td>\n",
              "      <td>0</td>\n",
              "      <td>1288350.0</td>\n",
              "      <td>0.007020</td>\n",
              "      <td>1125000.0</td>\n",
              "      <td>-792</td>\n",
              "      <td>0.263678</td>\n",
              "      <td>0.018172</td>\n",
              "      <td>0.307737</td>\n",
              "    </tr>\n",
              "    <tr>\n",
              "      <th>232698</th>\n",
              "      <td>NaN</td>\n",
              "      <td>-17181</td>\n",
              "      <td>2</td>\n",
              "      <td>2</td>\n",
              "      <td>-2732.0</td>\n",
              "      <td>-668</td>\n",
              "      <td>1</td>\n",
              "      <td>1</td>\n",
              "      <td>1</td>\n",
              "      <td>-5125.0</td>\n",
              "      <td>NaN</td>\n",
              "      <td>0.0</td>\n",
              "      <td>15408.0</td>\n",
              "      <td>90000.0</td>\n",
              "      <td>0</td>\n",
              "      <td>273636.0</td>\n",
              "      <td>0.006671</td>\n",
              "      <td>247500.0</td>\n",
              "      <td>-839</td>\n",
              "      <td>NaN</td>\n",
              "      <td>0.668578</td>\n",
              "      <td>0.434733</td>\n",
              "    </tr>\n",
              "    <tr>\n",
              "      <th>232699</th>\n",
              "      <td>NaN</td>\n",
              "      <td>-14515</td>\n",
              "      <td>2</td>\n",
              "      <td>2</td>\n",
              "      <td>-615.0</td>\n",
              "      <td>-4795</td>\n",
              "      <td>0</td>\n",
              "      <td>1</td>\n",
              "      <td>0</td>\n",
              "      <td>-7225.0</td>\n",
              "      <td>NaN</td>\n",
              "      <td>0.0</td>\n",
              "      <td>26725.5</td>\n",
              "      <td>144000.0</td>\n",
              "      <td>0</td>\n",
              "      <td>291384.0</td>\n",
              "      <td>0.018801</td>\n",
              "      <td>270000.0</td>\n",
              "      <td>-722</td>\n",
              "      <td>0.510226</td>\n",
              "      <td>0.574151</td>\n",
              "      <td>NaN</td>\n",
              "    </tr>\n",
              "    <tr>\n",
              "      <th>232700</th>\n",
              "      <td>NaN</td>\n",
              "      <td>-16914</td>\n",
              "      <td>3</td>\n",
              "      <td>3</td>\n",
              "      <td>-1610.0</td>\n",
              "      <td>-231</td>\n",
              "      <td>1</td>\n",
              "      <td>1</td>\n",
              "      <td>0</td>\n",
              "      <td>-5233.0</td>\n",
              "      <td>NaN</td>\n",
              "      <td>0.0</td>\n",
              "      <td>59094.0</td>\n",
              "      <td>193500.0</td>\n",
              "      <td>0</td>\n",
              "      <td>746280.0</td>\n",
              "      <td>0.002042</td>\n",
              "      <td>675000.0</td>\n",
              "      <td>-8756</td>\n",
              "      <td>0.353295</td>\n",
              "      <td>0.226714</td>\n",
              "      <td>NaN</td>\n",
              "    </tr>\n",
              "    <tr>\n",
              "      <th>232701</th>\n",
              "      <td>NaN</td>\n",
              "      <td>-9799</td>\n",
              "      <td>2</td>\n",
              "      <td>2</td>\n",
              "      <td>-421.0</td>\n",
              "      <td>-2395</td>\n",
              "      <td>0</td>\n",
              "      <td>1</td>\n",
              "      <td>0</td>\n",
              "      <td>-157.0</td>\n",
              "      <td>13.0</td>\n",
              "      <td>0.0</td>\n",
              "      <td>16429.5</td>\n",
              "      <td>135000.0</td>\n",
              "      <td>0</td>\n",
              "      <td>568800.0</td>\n",
              "      <td>0.022625</td>\n",
              "      <td>450000.0</td>\n",
              "      <td>-2801</td>\n",
              "      <td>NaN</td>\n",
              "      <td>0.270204</td>\n",
              "      <td>0.399676</td>\n",
              "    </tr>\n",
              "  </tbody>\n",
              "</table>\n",
              "<p>232702 rows × 22 columns</p>\n",
              "</div>"
            ],
            "text/plain": [
              "            TARGET  DAYS_BIRTH  ...  EXT_SOURCE_2  EXT_SOURCE_3\n",
              "SK_ID_CURR                      ...                            \n",
              "0              0.0       -9233  ...      0.372591           NaN\n",
              "1              0.0      -20148  ...      0.449567      0.553165\n",
              "2              0.0      -18496  ...      0.569503           NaN\n",
              "3              0.0      -24177  ...      0.105235      0.767523\n",
              "4              1.0      -10685  ...      0.202490      0.669057\n",
              "...            ...         ...  ...           ...           ...\n",
              "232697         NaN      -11430  ...      0.018172      0.307737\n",
              "232698         NaN      -17181  ...      0.668578      0.434733\n",
              "232699         NaN      -14515  ...      0.574151           NaN\n",
              "232700         NaN      -16914  ...      0.226714           NaN\n",
              "232701         NaN       -9799  ...      0.270204      0.399676\n",
              "\n",
              "[232702 rows x 22 columns]"
            ]
          },
          "metadata": {
            "tags": []
          },
          "execution_count": 32
        }
      ]
    },
    {
      "cell_type": "code",
      "metadata": {
        "id": "lvMq9gRt5kx8"
      },
      "source": [
        "all_df = all_df.fillna(all_df.mean())"
      ],
      "execution_count": 33,
      "outputs": []
    },
    {
      "cell_type": "code",
      "metadata": {
        "id": "3AHJLxE27Znd"
      },
      "source": [
        "def to_add_feature(df):\n",
        "  df['EXT_123_mean'] = (df['EXT_SOURCE_1'] + df['EXT_SOURCE_2'] + df['EXT_SOURCE_3']) / 3\n",
        "  df['EXT_23_mean'] = (df['EXT_SOURCE_2'] + df['EXT_SOURCE_3']) / 2\n",
        "  df['EXT_12_mean'] = (df['EXT_SOURCE_1'] + df['EXT_SOURCE_2']) / 2\n",
        "  df['EXT_13_mean'] = (df['EXT_SOURCE_1'] + df['EXT_SOURCE_3']) / 2\n",
        "  \n",
        "  df['CREDIT_ANNUITY'] = df['AMT_ANNUITY'] / df['AMT_CREDIT']\n",
        "  df['CREDIT_GOODS_PRICE'] = df['AMT_CREDIT'] / df['AMT_GOODS_PRICE']\n",
        "  df['INCOME_TOTAL_ANNUITY'] = df['AMT_ANNUITY'] / df['AMT_INCOME_TOTAL']\n",
        "  df['INCOME_TOTAL_CREDIT'] = df['AMT_INCOME_TOTAL'] / df['AMT_CREDIT']\n",
        "  \n",
        "to_add_feature(all_df)"
      ],
      "execution_count": 55,
      "outputs": []
    },
    {
      "cell_type": "code",
      "metadata": {
        "id": "jrEzoCH05kx8"
      },
      "source": [
        "X = all_df[:train.shape[0]].drop(['TARGET'], axis=1)\n",
        "\n",
        "y = all_df[:train.shape[0]]['TARGET']\n",
        "X_test = all_df[train.shape[0]:].drop(['TARGET'], axis=1)\n"
      ],
      "execution_count": 56,
      "outputs": []
    },
    {
      "cell_type": "code",
      "metadata": {
        "id": "y9KKiqcR5kx8"
      },
      "source": [
        "X_train, X_valid, y_train, y_valid = train_test_split(X, y, test_size=0.25)\n",
        "\n",
        "def show_hist(pred):\n",
        "    plt.figure(figsize=(8,4))\n",
        "    plt.hist(pred[np.where(y_valid == 0)], bins=100, alpha=0.75, label='neg class')\n",
        "    plt.hist(pred[np.where(y_valid == 1)], bins=100, alpha=0.75, label='pos class')\n",
        "    plt.legend()\n",
        "    plt.show()"
      ],
      "execution_count": 57,
      "outputs": []
    },
    {
      "cell_type": "code",
      "metadata": {
        "scrolled": true,
        "id": "8B85-QtO5kx9",
        "colab": {
          "base_uri": "https://localhost:8080/",
          "height": 283
        },
        "outputId": "b3442ee2-2144-4e5c-9031-8d410f0bb04e"
      },
      "source": [
        "model = LGBMClassifier()\n",
        "model.fit(X_train, y_train)\n",
        "    \n",
        "y_pred = model.predict_proba(X_valid)[:, 1]\n",
        "score = roc_auc_score(y_valid, y_pred)\n",
        "    \n",
        "print(f'AUC: {score}')\n",
        "show_hist(y_pred)"
      ],
      "execution_count": 58,
      "outputs": [
        {
          "output_type": "stream",
          "text": [
            "AUC: 0.743548909370941\n"
          ],
          "name": "stdout"
        },
        {
          "output_type": "display_data",
          "data": {
            "image/png": "[encoded data removed]",
            "text/plain": [
              "<Figure size 576x288 with 1 Axes>"
            ]
          },
          "metadata": {
            "tags": [],
            "needs_background": "light"
          }
        }
      ]
    },
    {
      "cell_type": "markdown",
      "metadata": {
        "id": "0P0dXO--5kx9"
      },
      "source": [
        "## Submit prediction"
      ]
    },
    {
      "cell_type": "code",
      "metadata": {
        "id": "wTGnke5X5kx9"
      },
      "source": [
        "submission_path='/content/drive/MyDrive/Colab Notebooks/competition_2_note/submission.csv'\n",
        "submission = pd.read_csv(submission_path)\n",
        "result = model.predict_proba(X_test)[:, 1]\n"
      ],
      "execution_count": 44,
      "outputs": []
    },
    {
      "cell_type": "code",
      "metadata": {
        "id": "kFWwlw9LETl2"
      },
      "source": [
        "submission=submission.drop(columns=(submission.columns[0]))"
      ],
      "execution_count": 47,
      "outputs": []
    },
    {
      "cell_type": "code",
      "metadata": {
        "id": "CXPKGloZJpK3"
      },
      "source": [
        "submission['TARGET']=result"
      ],
      "execution_count": 48,
      "outputs": []
    },
    {
      "cell_type": "code",
      "metadata": {
        "colab": {
          "base_uri": "https://localhost:8080/",
          "height": 419
        },
        "id": "tsyiflGaMsuC",
        "outputId": "98936812-78b3-4910-f515-31c400f39097"
      },
      "source": [
        "submission"
      ],
      "execution_count": 49,
      "outputs": [
        {
          "output_type": "execute_result",
          "data": {
            "text/html": [
              "<div>\n",
              "<style scoped>\n",
              "    .dataframe tbody tr th:only-of-type {\n",
              "        vertical-align: middle;\n",
              "    }\n",
              "\n",
              "    .dataframe tbody tr th {\n",
              "        vertical-align: top;\n",
              "    }\n",
              "\n",
              "    .dataframe thead th {\n",
              "        text-align: right;\n",
              "    }\n",
              "</style>\n",
              "<table border=\"1\" class=\"dataframe\">\n",
              "  <thead>\n",
              "    <tr style=\"text-align: right;\">\n",
              "      <th></th>\n",
              "      <th>SK_ID_CURR</th>\n",
              "      <th>TARGET</th>\n",
              "    </tr>\n",
              "  </thead>\n",
              "  <tbody>\n",
              "    <tr>\n",
              "      <th>0</th>\n",
              "      <td>171202</td>\n",
              "      <td>0.050977</td>\n",
              "    </tr>\n",
              "    <tr>\n",
              "      <th>1</th>\n",
              "      <td>171203</td>\n",
              "      <td>0.155928</td>\n",
              "    </tr>\n",
              "    <tr>\n",
              "      <th>2</th>\n",
              "      <td>171204</td>\n",
              "      <td>0.195551</td>\n",
              "    </tr>\n",
              "    <tr>\n",
              "      <th>3</th>\n",
              "      <td>171205</td>\n",
              "      <td>0.184724</td>\n",
              "    </tr>\n",
              "    <tr>\n",
              "      <th>4</th>\n",
              "      <td>171206</td>\n",
              "      <td>0.250510</td>\n",
              "    </tr>\n",
              "    <tr>\n",
              "      <th>...</th>\n",
              "      <td>...</td>\n",
              "      <td>...</td>\n",
              "    </tr>\n",
              "    <tr>\n",
              "      <th>61495</th>\n",
              "      <td>232697</td>\n",
              "      <td>0.256662</td>\n",
              "    </tr>\n",
              "    <tr>\n",
              "      <th>61496</th>\n",
              "      <td>232698</td>\n",
              "      <td>0.067350</td>\n",
              "    </tr>\n",
              "    <tr>\n",
              "      <th>61497</th>\n",
              "      <td>232699</td>\n",
              "      <td>0.066891</td>\n",
              "    </tr>\n",
              "    <tr>\n",
              "      <th>61498</th>\n",
              "      <td>232700</td>\n",
              "      <td>0.268951</td>\n",
              "    </tr>\n",
              "    <tr>\n",
              "      <th>61499</th>\n",
              "      <td>232701</td>\n",
              "      <td>0.120407</td>\n",
              "    </tr>\n",
              "  </tbody>\n",
              "</table>\n",
              "<p>61500 rows × 2 columns</p>\n",
              "</div>"
            ],
            "text/plain": [
              "       SK_ID_CURR    TARGET\n",
              "0          171202  0.050977\n",
              "1          171203  0.155928\n",
              "2          171204  0.195551\n",
              "3          171205  0.184724\n",
              "4          171206  0.250510\n",
              "...           ...       ...\n",
              "61495      232697  0.256662\n",
              "61496      232698  0.067350\n",
              "61497      232699  0.066891\n",
              "61498      232700  0.268951\n",
              "61499      232701  0.120407\n",
              "\n",
              "[61500 rows x 2 columns]"
            ]
          },
          "metadata": {
            "tags": []
          },
          "execution_count": 49
        }
      ]
    },
    {
      "cell_type": "code",
      "metadata": {
        "id": "Sfg7tlyvDCzG"
      },
      "source": [
        "#submission=submission.drop(columns=submission.columns[[0,1,2]])"
      ],
      "execution_count": null,
      "outputs": []
    },
    {
      "cell_type": "code",
      "metadata": {
        "id": "tSNfG1IrsRnf"
      },
      "source": [
        "submission_path='/content/drive/MyDrive/Colab Notebooks/competition_2_note/submission0701-1330.csv'\n",
        "submission.to_csv(submission_path)"
      ],
      "execution_count": 50,
      "outputs": []
    }
  ]
}